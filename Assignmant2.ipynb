{
 "cells": [
  {
   "cell_type": "code",
   "execution_count": 1,
   "metadata": {},
   "outputs": [],
   "source": [
    "#Write a function filter_long_words() that takes a list of words and an integer n and returns the list\n",
    "#of words that are longer than n.\n",
    "\n",
    "def filter_long_words(x,lst = list()):\n",
    "    lng_lst = list()\n",
    "    for i in lst:\n",
    "        if len(i) > x:\n",
    "            lng_lst.append(i)\n",
    "    return(lng_lst)\n",
    "          \n",
    "    \n",
    "\n"
   ]
  },
  {
   "cell_type": "code",
   "execution_count": 5,
   "metadata": {},
   "outputs": [
    {
     "data": {
      "text/plain": [
       "['xhxjak23y', 'kgqgdlnxkh']"
      ]
     },
     "execution_count": 5,
     "metadata": {},
     "output_type": "execute_result"
    }
   ],
   "source": [
    "lst = ['gjj@1','xhxjak23y','auyad','kgqgdlnxkh']\n",
    "x  = 6\n",
    "filter_long_words(x,lst)"
   ]
  },
  {
   "cell_type": "code",
   "execution_count": 6,
   "metadata": {},
   "outputs": [
    {
     "data": {
      "text/plain": [
       "['A', 'C', 'A', 'D', 'G', 'I', 'L', 'D']"
      ]
     },
     "execution_count": 6,
     "metadata": {},
     "output_type": "execute_result"
    }
   ],
   "source": [
    "#List comprehensions\n",
    "\n",
    "a = 'ACADGILD'\n",
    "lst = [ i for i in a]\n",
    "lst \n"
   ]
  },
  {
   "cell_type": "code",
   "execution_count": 7,
   "metadata": {},
   "outputs": [
    {
     "data": {
      "text/plain": [
       "['x', 'xx', 'xxx', 'xxxx', 'y', 'yy', 'yyy', 'yyyy', 'z', 'zz', 'zzz', 'zzzz']"
      ]
     },
     "execution_count": 7,
     "metadata": {},
     "output_type": "execute_result"
    }
   ],
   "source": [
    "a = ['x','y','z']\n",
    "lst  = [ item*num for item in a for num in range(1,5)  ]\n",
    "lst"
   ]
  },
  {
   "cell_type": "code",
   "execution_count": 8,
   "metadata": {},
   "outputs": [
    {
     "data": {
      "text/plain": [
       "['x', 'y', 'z', 'xx', 'yy', 'zz', 'xxx', 'yyy', 'zzz', 'xxxx', 'yyyy', 'zzzz']"
      ]
     },
     "execution_count": 8,
     "metadata": {},
     "output_type": "execute_result"
    }
   ],
   "source": [
    "a = ['x','y','z']\n",
    "lst = [ num*item for num in range(1,5) for item in  a ]\n",
    "lst"
   ]
  },
  {
   "cell_type": "code",
   "execution_count": 9,
   "metadata": {},
   "outputs": [
    {
     "data": {
      "text/plain": [
       "[[2], [3], [4], [3], [4], [5], [4], [5], [6]]"
      ]
     },
     "execution_count": 9,
     "metadata": {},
     "output_type": "execute_result"
    }
   ],
   "source": [
    "[[x+y] for x in range(2,5) for y in range(3)]"
   ]
  },
  {
   "cell_type": "code",
   "execution_count": 10,
   "metadata": {},
   "outputs": [
    {
     "data": {
      "text/plain": [
       "[[2, 3, 4, 5], [3, 4, 5, 6], [4, 5, 6, 7], [5, 6, 7, 8]]"
      ]
     },
     "execution_count": 10,
     "metadata": {},
     "output_type": "execute_result"
    }
   ],
   "source": [
    "[[x+y for x in range(2,6)] for y in range(4)]"
   ]
  },
  {
   "cell_type": "code",
   "execution_count": 11,
   "metadata": {},
   "outputs": [
    {
     "data": {
      "text/plain": [
       "[(1, 1), (2, 1), (3, 1), (1, 2), (2, 2), (3, 2), (1, 3), (2, 3), (3, 3)]"
      ]
     },
     "execution_count": 11,
     "metadata": {},
     "output_type": "execute_result"
    }
   ],
   "source": [
    " [(j,i) for i in range(1,4) for j in range(1,4)]"
   ]
  },
  {
   "cell_type": "code",
   "execution_count": 14,
   "metadata": {},
   "outputs": [
    {
     "data": {
      "text/plain": [
       "[3, 3, 3, 5, 6]"
      ]
     },
     "execution_count": 14,
     "metadata": {},
     "output_type": "execute_result"
    }
   ],
   "source": [
    "#Write a Python program using function concept that maps list of words into a list of integers\n",
    "#representing the lengths of the corresponding words.\n",
    "\n",
    "def string_len(lst = list()):\n",
    "    lst_len = list()\n",
    "    for i in lst:\n",
    "        x =  len(i)\n",
    "        lst_len.append(x)\n",
    "    return(lst_len)\n",
    "\n",
    "lst = ['ABC','ZXT','sss','lsteh','zxder@']\n",
    "string_len(lst)\n",
    "        "
   ]
  },
  {
   "cell_type": "code",
   "execution_count": 17,
   "metadata": {},
   "outputs": [
    {
     "data": {
      "text/plain": [
       "'xvnshjkl'"
      ]
     },
     "execution_count": 17,
     "metadata": {},
     "output_type": "execute_result"
    }
   ],
   "source": [
    "#Implement a function longestWord() that takes a list of words and returns the longest one.\n",
    "\n",
    "def longestword(lst = list()):\n",
    "    x = str()\n",
    "    for i in lst:       \n",
    "        if len(i) > len(x):\n",
    "            x = i\n",
    "    return(x)\n",
    "\n",
    "lst = ['XXXXXX','yyyyy','xvnshjkl','h@skl@']\n",
    "longestword(lst)"
   ]
  },
  {
   "cell_type": "code",
   "execution_count": 16,
   "metadata": {},
   "outputs": [
    {
     "data": {
      "text/plain": [
       "[0, 2, 4, 6, 8, 10, 12, 14, 16, 18]"
      ]
     },
     "execution_count": 16,
     "metadata": {},
     "output_type": "execute_result"
    }
   ],
   "source": [
    "#Implement a function longestWord() that takes a list of words and returns the longest one.\n",
    "\n",
    "def my_filter(p1,p2):\n",
    "    k = list()\n",
    "    for i in p2:\n",
    "        x = i\n",
    "        y = p1(x)\n",
    "       \n",
    "       \n",
    "        if y == True:\n",
    "            \n",
    "            k.append(i)\n",
    "    return(k)\n",
    "\n",
    "\n",
    "lst = range(20)\n",
    " \n",
    "list(my_filter(lambda x: x%2==0, lst))\n",
    "    "
   ]
  },
  {
   "cell_type": "code",
   "execution_count": null,
   "metadata": {},
   "outputs": [],
   "source": [
    "#Write a Python Program to implement your own myreduce() function which works exactly like\n",
    "#Python's built-in function reduce()"
   ]
  },
  {
   "cell_type": "code",
   "execution_count": 1,
   "metadata": {},
   "outputs": [
    {
     "data": {
      "text/plain": [
       "163"
      ]
     },
     "execution_count": 1,
     "metadata": {},
     "output_type": "execute_result"
    }
   ],
   "source": [
    "def my_reduce(p1, p2 = list()):\n",
    "    for i in (p2):\n",
    "        if p2.index(i) == 0:\n",
    "                x = 1\n",
    "        else:\n",
    "            y = i\n",
    "            x = p1(x,y)\n",
    "            #print(x)\n",
    "\n",
    "    return(x)\n",
    "\n",
    "\n",
    "lst = [2,34,56,72]\n",
    "\n",
    "my_reduce(lambda x,y : x+y, lst)"
   ]
  },
  {
   "cell_type": "code",
   "execution_count": 2,
   "metadata": {},
   "outputs": [
    {
     "data": {
      "text/plain": [
       "[0, 2, 4, 6, 8, 10, 12, 14, 16, 18]"
      ]
     },
     "execution_count": 2,
     "metadata": {},
     "output_type": "execute_result"
    }
   ],
   "source": [
    "#Write a Python program to implement your own myfilter() function which works exactly like\n",
    "#Python's built-in function filter()\n",
    "\n",
    "def my_filter(p1,p2):\n",
    "    k = list()\n",
    "    for i in p2:\n",
    "        x = i\n",
    "        y = p1(x)\n",
    "       \n",
    "       \n",
    "        if y == True:\n",
    "            \n",
    "            k.append(i)\n",
    "    return(k)\n",
    "    \n",
    "    \n",
    "lst = range(20)\n",
    "list(my_filter(lambda x: x%2==0, lst))"
   ]
  },
  {
   "cell_type": "code",
   "execution_count": 3,
   "metadata": {},
   "outputs": [
    {
     "data": {
      "text/plain": [
       "True"
      ]
     },
     "execution_count": 3,
     "metadata": {},
     "output_type": "execute_result"
    }
   ],
   "source": [
    "#Write a Python function which takes a character (i.e. a string of length 1) and returns True if it is\n",
    "#a vowel, False otherwise.\n",
    "\n",
    "\n",
    "def vowel_letter(x):\n",
    "    lst = ['A','E','I','O','U']\n",
    "    x = x.upper()\n",
    "    if x in lst:\n",
    "        return (True)\n",
    "    else:\n",
    "        return(False)\n",
    "    \n",
    "    \n",
    "    \n",
    "vowel_letter('A')   \n",
    "    "
   ]
  },
  {
   "cell_type": "code",
   "execution_count": 4,
   "metadata": {},
   "outputs": [
    {
     "name": "stdout",
     "output_type": "stream",
     "text": [
      "enter a  12\n",
      "enter b  13\n",
      "enter c  14\n"
     ]
    }
   ],
   "source": [
    "#Write a Python Program(with class concepts) to find the area of the triangle using the below\n",
    "#formula.\n",
    "\n",
    "class input_sides:\n",
    "    def __init__(self, a,b,c):\n",
    "        self.a = float(a)\n",
    "        self.b = float(b)\n",
    "        self.c = float(c)\n",
    "        \n",
    "class Triangle(input_sides):\n",
    "    def __init__(self):\n",
    "        input_sides.__init__(self,(input('enter a  ')),(input('enter b  ')),(input('enter c  ')))\n",
    "    def findArea(self):\n",
    "        a = self.a\n",
    "        b = self.b\n",
    "        c = self.c        \n",
    "        s = (a + b + c) / 2\n",
    "        T = (s*(s-a)*(s-b)*(s-c)) ** 0.5\n",
    "        print('The area of the triangle is ..',T)\n",
    "    \n",
    "                            \n",
    "t = Triangle()"
   ]
  },
  {
   "cell_type": "code",
   "execution_count": 5,
   "metadata": {},
   "outputs": [
    {
     "name": "stdout",
     "output_type": "stream",
     "text": [
      "The area of the triangle is .. 72.30793524918272\n"
     ]
    }
   ],
   "source": [
    "t.findArea()\n"
   ]
  },
  {
   "cell_type": "code",
   "execution_count": null,
   "metadata": {},
   "outputs": [],
   "source": []
  }
 ],
 "metadata": {
  "kernelspec": {
   "display_name": "Python 3",
   "language": "python",
   "name": "python3"
  },
  "language_info": {
   "codemirror_mode": {
    "name": "ipython",
    "version": 3
   },
   "file_extension": ".py",
   "mimetype": "text/x-python",
   "name": "python",
   "nbconvert_exporter": "python",
   "pygments_lexer": "ipython3",
   "version": "3.7.0"
  }
 },
 "nbformat": 4,
 "nbformat_minor": 2
}
